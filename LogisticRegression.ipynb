{
 "cells": [
  {
   "cell_type": "markdown",
   "metadata": {},
   "source": [
    "Implement the Logistic Regression learning by gradient ascent as described in class.\n",
    "On any of the six binary classification datasets, using the training and test sets specified\n",
    "in ProjectsData.pdf, perform the following tasks:\n",
    "\n",
    "a) Train a logistic regressor on the training set, starting with w = 0, with 300\n",
    "gradient ascent iterations and shrinkage taking values \u0015 2 f10; 100; 1000g (in\n",
    "the update equation from slide 9). For each \u0015 find a good learning rate \u0011 such\n",
    "that the negative log-likelihood decreases and levels off. Plot the negative loglikelihood\n",
    "vs iteration number. (2 points)\n",
    "\n",
    "b) Report in a table the misclassification error for all three models from a) on the\n",
    "training and test sets. (1 point)"
   ]
  },
  {
   "cell_type": "code",
   "execution_count": 35,
   "metadata": {},
   "outputs": [],
   "source": [
    "import matplotlib.pyplot as plt\n",
    "import sklearn\n",
    "import numpy as np"
   ]
  },
  {
   "cell_type": "code",
   "execution_count": 36,
   "metadata": {},
   "outputs": [],
   "source": [
    "def normalize(x, mean, sigma):\n",
    "    return (x-mean)/sigma\n",
    "\n",
    "def sigmoid(x):\n",
    "  return 1 / (1 + math.exp(-x))\n",
    "\n",
    "def classify(x,weights):\n",
    "    n= x.shape[0]\n",
    "    res=np.zeros(n)\n",
    "    for i in range(n):\n",
    "        sigm=sigmoid(np.dot(x[i],weights))\n",
    "        if sigm>=0.5:\n",
    "            res[i]=1\n",
    "        else:\n",
    "            res[i]=0\n",
    "    return res \n",
    "    \n",
    "def log_likelihood(weights, x, y):\n",
    "    n = x.shape[0]\n",
    "    tmp = 0\n",
    "    for j in range(n):\n",
    "        tmp += y[j]*np.dot(x[j],weights) - math.log(1+math.exp(np.dot(x[j],weights)))\n",
    "    return tmp\n",
    "\n",
    "def update_wights(weights, x, y, eta, l):\n",
    "    n = x.shape[0]\n",
    "    m = x.shape[1]\n",
    "    tmp=np.zeros(m)\n",
    "    for j in range(n):\n",
    "        tmp += x[j]*(y[j]-sigmoid(np.dot(x[j],weights)))    \n",
    "    weights = weights - weights/l*eta + eta*tmp\n",
    "    return weights"
   ]
  },
  {
   "cell_type": "markdown",
   "metadata": {},
   "source": [
    "Load Training Data"
   ]
  },
  {
   "cell_type": "code",
   "execution_count": 37,
   "metadata": {},
   "outputs": [],
   "source": [
    "#load training data\n",
    "x = np.loadtxt('/Users/soumak/Google Drive/computer science/machine_learning_barbu/binary_datasets/hill-valley/X.dat')\n",
    "#load class labels\n",
    "y = np.loadtxt('/Users/soumak/Google Drive/computer science/machine_learning_barbu/binary_datasets/hill-valley/Y.dat')"
   ]
  },
  {
   "cell_type": "code",
   "execution_count": 38,
   "metadata": {},
   "outputs": [],
   "source": [
    "#Number of training samples\n",
    "n= len(x)\n",
    "#number of features\n",
    "m= len(x[0])"
   ]
  },
  {
   "cell_type": "code",
   "execution_count": 39,
   "metadata": {},
   "outputs": [
    {
     "data": {
      "text/plain": [
       "(606, 100)"
      ]
     },
     "execution_count": 39,
     "metadata": {},
     "output_type": "execute_result"
    }
   ],
   "source": [
    "x.shape"
   ]
  },
  {
   "cell_type": "code",
   "execution_count": 40,
   "metadata": {},
   "outputs": [
    {
     "data": {
      "text/plain": [
       "(606,)"
      ]
     },
     "execution_count": 40,
     "metadata": {},
     "output_type": "execute_result"
    }
   ],
   "source": [
    "y.shape"
   ]
  },
  {
   "cell_type": "code",
   "execution_count": 41,
   "metadata": {},
   "outputs": [],
   "source": [
    "#replace -1 by 0, to use the equation from slide\n",
    "y[y==-1]=0"
   ]
  },
  {
   "cell_type": "code",
   "execution_count": 42,
   "metadata": {},
   "outputs": [],
   "source": [
    "#normalize training data\n",
    "mean = np.mean(x, axis=0)\n",
    "std = np.std(x, axis=0)\n",
    "x = normalize(x, mean , std)"
   ]
  },
  {
   "cell_type": "markdown",
   "metadata": {},
   "source": [
    "Hyperparameter"
   ]
  },
  {
   "cell_type": "code",
   "execution_count": 67,
   "metadata": {},
   "outputs": [],
   "source": [
    "eta = (10**-4)\n",
    "#shrinkage rate\n",
    "l = 1000\n",
    "#no. of iternation\n",
    "itr=4000"
   ]
  },
  {
   "cell_type": "code",
   "execution_count": 44,
   "metadata": {},
   "outputs": [],
   "source": [
    "#fisrt augment x with 1\n",
    "x = np.insert(x,0,1,axis=1)"
   ]
  },
  {
   "cell_type": "code",
   "execution_count": 68,
   "metadata": {},
   "outputs": [],
   "source": [
    "#create a list to hold each iteration\n",
    "log_list=np.zeros(itr)\n",
    "#initialize weight matrix\n",
    "weights = np.zeros(m+1)"
   ]
  },
  {
   "cell_type": "code",
   "execution_count": 69,
   "metadata": {},
   "outputs": [],
   "source": [
    "import math\n",
    "for i in range(itr):\n",
    "    log_list[i] = -log_likelihood(weights, x, y)\n",
    "    weights = update_wights(weights, x, y, eta, l)\n"
   ]
  },
  {
   "cell_type": "code",
   "execution_count": 70,
   "metadata": {},
   "outputs": [],
   "source": [
    "#classify training samples\n",
    "res = np.zeros(n)\n",
    "\n",
    "res = classify(x, weights)\n",
    "\n",
    "error = 0;\n",
    "\n",
    "for i in range(n):\n",
    "    if res[i] != y[i]:\n",
    "        error += 1"
   ]
  },
  {
   "cell_type": "code",
   "execution_count": 71,
   "metadata": {},
   "outputs": [
    {
     "data": {
      "image/png": "[encoded data removed]",
      "text/plain": [
       "<Figure size 432x288 with 1 Axes>"
      ]
     },
     "metadata": {
      "needs_background": "light"
     },
     "output_type": "display_data"
    }
   ],
   "source": [
    "#plot log likelihood vs iteration\n",
    "itr_range = list(range(1,itr+1))\n",
    "plt.plot(itr_range,log_list,label=\"negative log likelihood\")\n",
    "plt.legend(bbox_to_anchor=(1,0.8),loc='center right')\n",
    "plt.xlabel(\"Iteration number\")\n",
    "plt.ylabel(\"Negative log likelihood\")\n",
    "plt.title(\"Negative Log Likelihood with \" +r\"$\\eta$ \"+str(eta))\n",
    "plt.show()"
   ]
  },
  {
   "cell_type": "code",
   "execution_count": 49,
   "metadata": {},
   "outputs": [
    {
     "name": "stdout",
     "output_type": "stream",
     "text": [
      "Classification error for Training data:  44.71947194719472 %\n"
     ]
    }
   ],
   "source": [
    "print (\"Classification error for Training data: \", 100*error/n, \"%\" )"
   ]
  },
  {
   "cell_type": "code",
   "execution_count": 50,
   "metadata": {},
   "outputs": [
    {
     "name": "stdout",
     "output_type": "stream",
     "text": [
      "Classification error for Test data:  49.00990099009901 %\n"
     ]
    }
   ],
   "source": [
    "#classify Test data\n",
    "x_test = np.loadtxt('/Users/soumak/Google Drive/computer science/machine_learning_barbu/binary_datasets/hill-valley/Xtest.dat')\n",
    "x_test = normalize(x_test, mean , std)\n",
    "x_test = np.insert(x_test,0,1,axis=1)\n",
    "\n",
    "y_test = np.loadtxt('/Users/soumak/Google Drive/computer science/machine_learning_barbu/binary_datasets/hill-valley/Ytest.dat')\n",
    "y_test[y_test==-1]=0\n",
    "\n",
    "res = classify(x_test, weights)\n",
    "\n",
    "error = 0;\n",
    "\n",
    "for i in range(x_test.shape[0]):\n",
    "    if res[i] != y[i]:\n",
    "        error += 1\n",
    "        \n",
    "print (\"Classification error for Test data: \", 100*error/n, \"%\") "
   ]
  },
  {
   "cell_type": "markdown",
   "metadata": {},
   "source": [
    "# Now we will use Sklearn package"
   ]
  },
  {
   "cell_type": "code",
   "execution_count": 51,
   "metadata": {},
   "outputs": [],
   "source": [
    "from sklearn.linear_model import LogisticRegression"
   ]
  },
  {
   "cell_type": "code",
   "execution_count": 52,
   "metadata": {},
   "outputs": [],
   "source": [
    "from sklearn.preprocessing import StandardScaler\n",
    "sc = StandardScaler()"
   ]
  },
  {
   "cell_type": "code",
   "execution_count": 53,
   "metadata": {},
   "outputs": [],
   "source": [
    "sc.fit(x)\n",
    "X_train_std = sc.transform(x)\n",
    "X_test_std = sc.transform(x_test)\n"
   ]
  },
  {
   "cell_type": "code",
   "execution_count": 54,
   "metadata": {},
   "outputs": [
    {
     "name": "stderr",
     "output_type": "stream",
     "text": [
      "/anaconda3/envs/tf/lib/python3.7/site-packages/sklearn/linear_model/logistic.py:432: FutureWarning: Default solver will be changed to 'lbfgs' in 0.22. Specify a solver to silence this warning.\n",
      "  FutureWarning)\n"
     ]
    },
    {
     "data": {
      "text/plain": [
       "LogisticRegression(C=1000.0, class_weight=None, dual=False, fit_intercept=True,\n",
       "                   intercept_scaling=1, l1_ratio=None, max_iter=300,\n",
       "                   multi_class='warn', n_jobs=None, penalty='l2',\n",
       "                   random_state=0, solver='warn', tol=0.0001, verbose=0,\n",
       "                   warm_start=False)"
      ]
     },
     "execution_count": 54,
     "metadata": {},
     "output_type": "execute_result"
    }
   ],
   "source": [
    "lr = LogisticRegression(C=1000.0, max_iter=300, random_state=0)\n",
    "lr.fit(X_train_std, y)"
   ]
  },
  {
   "cell_type": "code",
   "execution_count": 55,
   "metadata": {},
   "outputs": [
    {
     "name": "stdout",
     "output_type": "stream",
     "text": [
      "Misclassified samples: 142\n"
     ]
    }
   ],
   "source": [
    "y_pred = lr.predict(X_test_std)\n",
    "print('Misclassified samples: %d' %(y_test != y_pred).sum())"
   ]
  },
  {
   "cell_type": "code",
   "execution_count": 56,
   "metadata": {},
   "outputs": [
    {
     "name": "stdout",
     "output_type": "stream",
     "text": [
      "Accuracy: 0.77\n"
     ]
    }
   ],
   "source": [
    "from sklearn.metrics import accuracy_score\n",
    "print('Accuracy: %.2f' %accuracy_score(y_test, y_pred))"
   ]
  },
  {
   "cell_type": "code",
   "execution_count": null,
   "metadata": {},
   "outputs": [],
   "source": []
  }
 ],
 "metadata": {
  "kernelspec": {
   "display_name": "Python 3",
   "language": "python",
   "name": "python3"
  },
  "language_info": {
   "codemirror_mode": {
    "name": "ipython",
    "version": 3
   },
   "file_extension": ".py",
   "mimetype": "text/x-python",
   "name": "python",
   "nbconvert_exporter": "python",
   "pygments_lexer": "ipython3",
   "version": "3.7.3"
  }
 },
 "nbformat": 4,
 "nbformat_minor": 2
}
