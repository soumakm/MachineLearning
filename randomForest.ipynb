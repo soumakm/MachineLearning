{
 "cells": [
  {
   "cell_type": "markdown",
   "metadata": {},
   "source": [
    "Use a programming language or package where random forests can be trained and\n",
    "applied. Examples include Python (scikit-learn package), R and Matlab.\n",
    "1. On any of the binary and multi-class classification datasets, using the training and\n",
    "test sets specified in ProjectsData.pdf, perform the following tasks:\n",
    "\n",
    "a) For each of k in (3; 10; 30; 100; 300) train a random forest with k trees and\n",
    "report the training misclassification error in a table.\n",
    "\n",
    "b) In the same table report the misclassification error on the test set for all the\n",
    "trained forests from a).\n",
    "\n",
    "c) Plot on the same graph the training errors and test errors from a) and b) vs number\n",
    "of trees as two separate curves.\n",
    "\n",
    "The datasets with 4-fold cross-val mean that 4-fold cross-validation should be performed\n",
    "on that dataset."
   ]
  },
  {
   "cell_type": "markdown",
   "metadata": {},
   "source": [
    "# Import Library"
   ]
  },
  {
   "cell_type": "code",
   "execution_count": 2,
   "metadata": {},
   "outputs": [],
   "source": [
    "import matplotlib.pyplot as plt\n",
    "import pandas as pd\n",
    "import sklearn\n",
    "import numpy as np"
   ]
  },
  {
   "cell_type": "markdown",
   "metadata": {},
   "source": [
    "Load Hill-valley Data"
   ]
  },
  {
   "cell_type": "code",
   "execution_count": 5,
   "metadata": {},
   "outputs": [],
   "source": [
    "# for the hill valley data\n",
    "#t=time.time()\n",
    "path='/Users/soumak/Google Drive/computer science/machine_learning_barbu/binary_datasets/hill-valley/'\n",
    "hill_valley_train_x=np.array(pd.read_csv(path+'X.dat',sep=\" \",header=None))\n",
    "hill_valley_train_y=np.array(pd.read_csv(path+'Y.dat',sep=\" \",header=None))\n",
    "hill_valley_test_x=np.array(pd.read_csv(path+'Xtest.dat',sep=\" \",header=None))\n",
    "hill_valley_test_y=np.array(pd.read_csv(path+'Ytest.dat',sep=\" \",header=None))"
   ]
  },
  {
   "cell_type": "code",
   "execution_count": 6,
   "metadata": {},
   "outputs": [
    {
     "data": {
      "text/plain": [
       "(606, 100)"
      ]
     },
     "execution_count": 6,
     "metadata": {},
     "output_type": "execute_result"
    }
   ],
   "source": [
    "hill_valley_train_x.shape"
   ]
  },
  {
   "cell_type": "code",
   "execution_count": 7,
   "metadata": {},
   "outputs": [
    {
     "data": {
      "text/plain": [
       "(606, 100)"
      ]
     },
     "execution_count": 7,
     "metadata": {},
     "output_type": "execute_result"
    }
   ],
   "source": [
    "hill_valley_test_x.shape"
   ]
  },
  {
   "cell_type": "code",
   "execution_count": 8,
   "metadata": {},
   "outputs": [
    {
     "name": "stderr",
     "output_type": "stream",
     "text": [
      "/anaconda3/lib/python3.6/site-packages/ipykernel_launcher.py:7: DataConversionWarning: A column-vector y was passed when a 1d array was expected. Please change the shape of y to (n_samples,), for example using ravel().\n",
      "  import sys\n",
      "/anaconda3/lib/python3.6/site-packages/ipykernel_launcher.py:7: DataConversionWarning: A column-vector y was passed when a 1d array was expected. Please change the shape of y to (n_samples,), for example using ravel().\n",
      "  import sys\n",
      "/anaconda3/lib/python3.6/site-packages/ipykernel_launcher.py:7: DataConversionWarning: A column-vector y was passed when a 1d array was expected. Please change the shape of y to (n_samples,), for example using ravel().\n",
      "  import sys\n",
      "/anaconda3/lib/python3.6/site-packages/ipykernel_launcher.py:7: DataConversionWarning: A column-vector y was passed when a 1d array was expected. Please change the shape of y to (n_samples,), for example using ravel().\n",
      "  import sys\n",
      "/anaconda3/lib/python3.6/site-packages/ipykernel_launcher.py:7: DataConversionWarning: A column-vector y was passed when a 1d array was expected. Please change the shape of y to (n_samples,), for example using ravel().\n",
      "  import sys\n"
     ]
    }
   ],
   "source": [
    "from sklearn.ensemble import RandomForestClassifier\n",
    "no_of_trees = [3, 10, 30, 100, 300]\n",
    "train_error_list=[]\n",
    "test_error_list=[]\n",
    "for k in no_of_trees:\n",
    "    clf = RandomForestClassifier(n_estimators=k,random_state=0)\n",
    "    clf.fit(hill_valley_train_x, hill_valley_train_y) \n",
    "    predict_train=clf.predict(hill_valley_train_x)\n",
    "    train_error=np.average(predict_train!=hill_valley_train_y)\n",
    "    predict_test=clf.predict(hill_valley_test_x)\n",
    "    test_error=np.average(predict_test!=hill_valley_test_y)\n",
    "    train_error_list.append(float(train_error))\n",
    "    test_error_list.append(float(test_error))"
   ]
  },
  {
   "cell_type": "code",
   "execution_count": 9,
   "metadata": {},
   "outputs": [
    {
     "name": "stdout",
     "output_type": "stream",
     "text": [
      "[0.4998475095034256, 0.4997603720768116, 0.4999128625733861, 0.4999128625733861, 0.4999128625733861]\n",
      "[0.4999782156433465, 0.5010238647627139, 0.5004356871330697, 0.5002178435665349, 0.5003703340631093]\n"
     ]
    }
   ],
   "source": [
    "print(train_error_list)\n",
    "print(test_error_list)"
   ]
  },
  {
   "cell_type": "code",
   "execution_count": 10,
   "metadata": {},
   "outputs": [],
   "source": [
    "%matplotlib inline"
   ]
  },
  {
   "cell_type": "code",
   "execution_count": 11,
   "metadata": {},
   "outputs": [
    {
     "data": {
      "image/png": "[encoded data removed]",
      "text/plain": [
       "<Figure size 432x288 with 1 Axes>"
      ]
     },
     "metadata": {},
     "output_type": "display_data"
    }
   ],
   "source": [
    "plt.plot(no_of_trees, train_error_list, label='Train error')\n",
    "plt.plot(no_of_trees, test_error_list, label='Test error')\n",
    "plt.ylabel('error')\n",
    "plt.xlabel('Depth')\n",
    "plt.legend(loc='upper left')\n",
    "plt.show()"
   ]
  },
  {
   "cell_type": "code",
   "execution_count": null,
   "metadata": {},
   "outputs": [],
   "source": []
  }
 ],
 "metadata": {
  "kernelspec": {
   "display_name": "Python 3",
   "language": "python",
   "name": "python3"
  },
  "language_info": {
   "codemirror_mode": {
    "name": "ipython",
    "version": 3
   },
   "file_extension": ".py",
   "mimetype": "text/x-python",
   "name": "python",
   "nbconvert_exporter": "python",
   "pygments_lexer": "ipython3",
   "version": "3.6.5"
  }
 },
 "nbformat": 4,
 "nbformat_minor": 2
}
