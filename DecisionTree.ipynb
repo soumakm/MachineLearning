{
 "cells": [
  {
   "cell_type": "markdown",
   "metadata": {},
   "source": [
    "Use a programming language or package where decision trees can be trained and applied. Examples include Python (scikit-learn package), R or the C4.5 code available on Blackboard.\n",
    "\n",
    "1.On any of the binary and multi-class classification datasets, using the training and test sets specified in ProjectsData.pdf, perform the following tasks:\n",
    "\n",
    "a) For d from 1 to 12 train a decision tree of maximum depth d and report the training misclassification error in a table. (1 point)\n",
    "\n",
    "b) On the same table report the misclassification error on the test set for all the trained trees. (1 point)\n",
    "\n",
    "c) Plot on the same graph the training errors and test errors from a) and b) vs tree depth as two separate curves. (1 point)\n",
    "\n",
    "The datasets with 4-fold cross-val mean that 4-fold cross-validation should be performed on that dataset."
   ]
  },
  {
   "cell_type": "markdown",
   "metadata": {},
   "source": [
    "# Import Library"
   ]
  },
  {
   "cell_type": "code",
   "execution_count": 4,
   "metadata": {},
   "outputs": [],
   "source": [
    "import matplotlib.pyplot as plt\n",
    "import pandas as pd\n",
    "import sklearn\n",
    "import numpy as np\n",
    "import time"
   ]
  },
  {
   "cell_type": "code",
   "execution_count": 5,
   "metadata": {},
   "outputs": [],
   "source": [
    "# for the hill valley data\n",
    "#t=time.time()\n",
    "path='/Users/soumak/Google Drive/computer science/machine_learning_barbu/binary_datasets/hill-valley/'\n",
    "hill_valley_train_x=np.array(pd.read_csv(path+'X.dat',sep=\" \",header=None))\n",
    "hill_valley_train_y=np.array(pd.read_csv(path+'Y.dat',sep=\" \",header=None))\n",
    "hill_valley_test_x=np.array(pd.read_csv(path+'Xtest.dat',sep=\" \",header=None))\n",
    "hill_valley_test_y=np.array(pd.read_csv(path+'Ytest.dat',sep=\" \",header=None))"
   ]
  },
  {
   "cell_type": "code",
   "execution_count": 6,
   "metadata": {},
   "outputs": [
    {
     "data": {
      "text/plain": [
       "(606, 1)"
      ]
     },
     "execution_count": 6,
     "metadata": {},
     "output_type": "execute_result"
    }
   ],
   "source": [
    "hill_valley_train_y.shape"
   ]
  },
  {
   "cell_type": "code",
   "execution_count": 7,
   "metadata": {},
   "outputs": [
    {
     "data": {
      "text/plain": [
       "(606, 100)"
      ]
     },
     "execution_count": 7,
     "metadata": {},
     "output_type": "execute_result"
    }
   ],
   "source": [
    "hill_valley_train_x.shape"
   ]
  },
  {
   "cell_type": "markdown",
   "metadata": {},
   "source": [
    "# Train the Decision Tree"
   ]
  },
  {
   "cell_type": "code",
   "execution_count": 8,
   "metadata": {},
   "outputs": [],
   "source": [
    "from sklearn.tree import DecisionTreeClassifier\n",
    "train_error_list=[]\n",
    "test_error_list=[]\n",
    "for depth in range(1,13):\n",
    "    clf= DecisionTreeClassifier(max_depth=depth)\n",
    "    \n",
    "    clf.fit(hill_valley_train_x,hill_valley_train_y)\n",
    "    #train error\n",
    "    predict_train=clf.predict(hill_valley_train_x)\n",
    "    \n",
    "    train_error=np.average(predict_train!=hill_valley_train_y)\n",
    "    # test_error\n",
    "    predict_test=clf.predict(hill_valley_test_x)\n",
    "    \n",
    "    test_error=np.average(predict_test!=hill_valley_test_y)\n",
    "    train_error_list.append(float(train_error))\n",
    "    test_error_list.append(float(test_error))"
   ]
  },
  {
   "cell_type": "code",
   "execution_count": 9,
   "metadata": {},
   "outputs": [
    {
     "name": "stdout",
     "output_type": "stream",
     "text": [
      "[0.49947717544031633, 0.4993029005870884, 0.49941182237035586, 0.49939003801370235, 0.4993246849437419, 0.499193978803821, 0.4992811162304349, 0.499106841377207, 0.49915041009051403, 0.49925933187378146, 0.49921576316047445, 0.4989761352372861]\n",
      "[0.5001960592098814, 0.5003921184197627, 0.5002831966364953, 0.5003049809931488, 0.5004574714897232, 0.5004356871330697, 0.5003267653498024, 0.5006099619862976, 0.5006970994129116, 0.5005881776296441, 0.5008278055528325, 0.5009149429794465]\n"
     ]
    }
   ],
   "source": [
    "print(train_error_list)\n",
    "print(test_error_list)"
   ]
  },
  {
   "cell_type": "code",
   "execution_count": 10,
   "metadata": {},
   "outputs": [],
   "source": [
    "%matplotlib inline"
   ]
  },
  {
   "cell_type": "code",
   "execution_count": 11,
   "metadata": {},
   "outputs": [],
   "source": [
    "x = [n for n in range(12)]"
   ]
  },
  {
   "cell_type": "code",
   "execution_count": 12,
   "metadata": {},
   "outputs": [
    {
     "data": {
      "image/png": "[encoded data removed]",
      "text/plain": [
       "<Figure size 432x288 with 1 Axes>"
      ]
     },
     "metadata": {},
     "output_type": "display_data"
    }
   ],
   "source": [
    "plt.plot(x, train_error_list, label='Train error')\n",
    "plt.plot(x, test_error_list, label='Test error')\n",
    "plt.ylabel('error')\n",
    "plt.xlabel('Depth')\n",
    "plt.legend(loc='upper left')\n",
    "plt.show()"
   ]
  },
  {
   "cell_type": "code",
   "execution_count": null,
   "metadata": {},
   "outputs": [],
   "source": []
  }
 ],
 "metadata": {
  "kernelspec": {
   "display_name": "Python 3",
   "language": "python",
   "name": "python3"
  },
  "language_info": {
   "codemirror_mode": {
    "name": "ipython",
    "version": 3
   },
   "file_extension": ".py",
   "mimetype": "text/x-python",
   "name": "python",
   "nbconvert_exporter": "python",
   "pygments_lexer": "ipython3",
   "version": "3.6.5"
  }
 },
 "nbformat": 4,
 "nbformat_minor": 2
}
